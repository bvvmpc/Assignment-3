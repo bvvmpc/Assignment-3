{
 "cells": [
  {
   "cell_type": "markdown",
   "metadata": {},
   "source": [
    "# Task1"
   ]
  },
  {
   "cell_type": "markdown",
   "metadata": {},
   "source": [
    "#1"
   ]
  },
  {
   "cell_type": "code",
   "execution_count": 3,
   "metadata": {},
   "outputs": [
    {
     "name": "stdout",
     "output_type": "stream",
     "text": [
      "Sorry ! You are dividing by zero \n"
     ]
    }
   ],
   "source": [
    "# Python code to illustrate \n",
    "# working of try()  \n",
    "def divide(x, y): \n",
    "    try: \n",
    "        # Floor Division : Gives only Fractional Part as Answer \n",
    "        result = x // y \n",
    "        print(\"Yeah ! Your answer is :\", result) \n",
    "    except ZeroDivisionError: \n",
    "        print(\"Sorry ! You are dividing by zero \") \n",
    "  \n",
    "# Look at parameters and note the working of Program \n",
    "divide(5, 0)"
   ]
  },
  {
   "cell_type": "markdown",
   "metadata": {},
   "source": [
    "#2"
   ]
  },
  {
   "cell_type": "code",
   "execution_count": 1,
   "metadata": {},
   "outputs": [
    {
     "name": "stdout",
     "output_type": "stream",
     "text": [
      "Americans Play Baseball\n",
      "Americans Play cricket\n",
      "Americans watch Baseball\n",
      "Americans watch cricket\n",
      "Indians Play Baseball\n",
      "Indians Play cricket\n",
      "Indians watch Baseball\n",
      "Indians watch cricket\n"
     ]
    }
   ],
   "source": [
    "\"\"\"\n",
    "Problem Statement​ ​1:\n",
    "Implement a Python program to generate all sentences where subject is in\n",
    "[\"Americans\", \"Indians\"] and verb is in [\"Play\", \"watch\"] and the object is in\n",
    "[\"Baseball\",\"cricket\"].\n",
    "Hint: Subject,Verb and Object should be declared in the program as shown below.\n",
    "subjects=[\"Americans \",\"Indians\"]\n",
    "verbs=[\"play\",\"watch\"]\n",
    "objects=[\"Baseball\",\"Cricket\"]\n",
    "Output should come as below:\n",
    "Americans play Baseball.\n",
    "Americans play Cricket.\n",
    "Americans watch Baseball.\n",
    "Americans watch Cricket.\n",
    "Indians play Baseball.\n",
    "Indians play Cricket.\n",
    "Indians watch Baseball.\n",
    "Indians watch Cricket.\n",
    "\"\"\"\n",
    "subject=[\"Americans\", \"Indians\"]\n",
    "verb=[\"Play\", \"watch\"]\n",
    "obj=[\"Baseball\",\"cricket\"]\n",
    "\n",
    "# Use list comprehension instead of looping over each of the predicates\n",
    "sentence_list = [(sub+\" \"+ vb + \" \" + ob) for sub in subject for vb in verb for ob in obj]\n",
    "for sentence in sentence_list:\n",
    " print (sentence)"
   ]
  },
  {
   "cell_type": "markdown",
   "metadata": {},
   "source": [
    "# Task 2"
   ]
  },
  {
   "cell_type": "code",
   "execution_count": 5,
   "metadata": {},
   "outputs": [
    {
     "ename": "SyntaxError",
     "evalue": "EOF while scanning triple-quoted string literal (<ipython-input-5-e94ec7ce9066>, line 60)",
     "output_type": "error",
     "traceback": [
      "\u001b[1;36m  File \u001b[1;32m\"<ipython-input-5-e94ec7ce9066>\"\u001b[1;36m, line \u001b[1;32m60\u001b[0m\n\u001b[1;33m    \u001b[0m\n\u001b[1;37m    ^\u001b[0m\n\u001b[1;31mSyntaxError\u001b[0m\u001b[1;31m:\u001b[0m EOF while scanning triple-quoted string literal\n"
     ]
    }
   ],
   "source": [
    "def vander(x, N=None, increasing=False):\n",
    "    \"\"\"\n",
    "    Generate a Vandermonde matrix.\n",
    "    The columns of the output matrix are powers of the input vector. The\n",
    "    order of the powers is determined by the `increasing` boolean argument.\n",
    "    Specifically, when `increasing` is False, the `i`-th output column is\n",
    "    the input vector raised element-wise to the power of ``N - i - 1``. Such\n",
    "    a matrix with a geometric progression in each row is named for Alexandre-\n",
    "    Theophile Vandermonde.\n",
    "    Parameters\n",
    "    ----------\n",
    "    x : array_like\n",
    "        1-D input array.\n",
    "    N : int, optional\n",
    "        Number of columns in the output.  If `N` is not specified, a square\n",
    "        array is returned (``N = len(x)``).\n",
    "    increasing : bool, optional\n",
    "        Order of the powers of the columns.  If True, the powers increase\n",
    "        from left to right, if False (the default) they are reversed.\n",
    "        .. versionadded:: 1.9.0\n",
    "    Returns\n",
    "    -------\n",
    "    out : ndarray\n",
    "        Vandermonde matrix.  If `increasing` is False, the first column is\n",
    "        ``x^(N-1)``, the second ``x^(N-2)`` and so forth. If `increasing` is\n",
    "        True, the columns are ``x^0, x^1, ..., x^(N-1)``.\n",
    "    See Also\n",
    "    --------\n",
    "    polynomial.polynomial.polyvander\n",
    "    Examples\n",
    "    --------\n",
    "    >>> x = np.array([1, 2, 3, 5])\n",
    "    >>> N = 3\n",
    "    >>> np.vander(x, N)\n",
    "    array([[ 1,  1,  1],\n",
    "           [ 4,  2,  1],\n",
    "           [ 9,  3,  1],\n",
    "           [25,  5,  1]])\n",
    "    >>> np.column_stack([x**(N-1-i) for i in range(N)])\n",
    "    array([[ 1,  1,  1],\n",
    "           [ 4,  2,  1],\n",
    "           [ 9,  3,  1],\n",
    "           [25,  5,  1]])\n",
    "    >>> x = np.array([1, 2, 3, 5])\n",
    "    >>> np.vander(x)\n",
    "    array([[  1,   1,   1,   1],\n",
    "           [  8,   4,   2,   1],\n",
    "           [ 27,   9,   3,   1],\n",
    "           [125,  25,   5,   1]])\n",
    "    >>> np.vander(x, increasing=True)\n",
    "    array([[  1,   1,   1,   1],\n",
    "           [  1,   2,   4,   8],\n",
    "           [  1,   3,   9,  27],\n",
    "           [  1,   5,  25, 125]])\n",
    "    The determinant of a square Vandermonde matrix is the product\n",
    "    of the differences between the values of the input vector:\n",
    "    >>> np.linalg.det(np.vander(x))\n",
    "    48.000000000000043\n",
    "    >>> (5-3)*(5-2)*(5-1)*(3-2)*(3-1)*(2-1)\n",
    "    "
   ]
  }
 ],
 "metadata": {
  "kernelspec": {
   "display_name": "Python 3",
   "language": "python",
   "name": "python3"
  },
  "language_info": {
   "codemirror_mode": {
    "name": "ipython",
    "version": 3
   },
   "file_extension": ".py",
   "mimetype": "text/x-python",
   "name": "python",
   "nbconvert_exporter": "python",
   "pygments_lexer": "ipython3",
   "version": "3.7.3"
  }
 },
 "nbformat": 4,
 "nbformat_minor": 2
}
